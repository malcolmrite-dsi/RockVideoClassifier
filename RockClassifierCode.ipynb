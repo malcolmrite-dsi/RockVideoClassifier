{
  "nbformat": 4,
  "nbformat_minor": 0,
  "metadata": {
    "colab": {
      "name": "RockClassifierCode",
      "provenance": [],
      "collapsed_sections": [],
      "toc_visible": true,
      "include_colab_link": true
    },
    "kernelspec": {
      "display_name": "Python 3",
      "name": "python3"
    }
  },
  "cells": [
    {
      "cell_type": "markdown",
      "metadata": {
        "id": "view-in-github",
        "colab_type": "text"
      },
      "source": [
        "<a href=\"https://colab.research.google.com/github/malcolmrite-dsi/RockVideoClassifier/blob/main/RockClassifierCode.ipynb\" target=\"_parent\"><img src=\"https://colab.research.google.com/assets/colab-badge.svg\" alt=\"Open In Colab\"/></a>"
      ]
    },
    {
      "cell_type": "markdown",
      "metadata": {
        "id": "qKE9s_WWcyOA"
      },
      "source": [
        "This script will show you how to read frames from a video, resize it and sample sub-images"
      ]
    },
    {
      "cell_type": "code",
      "metadata": {
        "id": "oRajjXjQ0x4h",
        "outputId": "eca13c41-8019-4f68-ef61-e7534128f0b2",
        "colab": {
          "base_uri": "https://localhost:8080/",
          "height": 34
        }
      },
      "source": [
        "from google.colab import drive\n",
        "drive.mount('/content/drive')"
      ],
      "execution_count": null,
      "outputs": [
        {
          "output_type": "stream",
          "text": [
            "Mounted at /content/drive\n"
          ],
          "name": "stdout"
        }
      ]
    },
    {
      "cell_type": "code",
      "metadata": {
        "id": "8MPC_oI3cprv"
      },
      "source": [
        "from google.colab.patches import cv2_imshow\n",
        "from IPython.display import clear_output, Image\n",
        "import cv2\n",
        "import numpy as np\n",
        "import matplotlib.pyplot as plt\n",
        "import time\n",
        "\n",
        "from pathlib import Path\n",
        "from PIL import Image\n",
        "\n",
        "import os\n",
        "import glob\n",
        "\n",
        "import pandas as pd\n",
        "import seaborn as sns\n",
        "\n",
        "from keras.applications.resnet50 import preprocess_input\n",
        "from tensorflow import keras\n",
        "from tensorflow.keras.models import Model"
      ],
      "execution_count": 87,
      "outputs": []
    },
    {
      "cell_type": "code",
      "metadata": {
        "id": "d-IQdnfNmeFI"
      },
      "source": [
        "def sample_image(img, x, y, win_size, cnn_size):\n",
        "  h, w, col = img.shape\n",
        "\n",
        "  delta = int(win_size/2)\n",
        "\n",
        "  x0 = x - delta \n",
        "  x1 = x + delta\n",
        "  y0 = y - delta\n",
        "  y1 = y + delta\n",
        "\n",
        "  '''  if y0 < 0:\n",
        "      y0 = int(0)\n",
        "      y1 = int(win_size * 2)\n",
        "  \n",
        "  if y1 > h:\n",
        "      y0 = int(h - win_size * 2)\n",
        "      y1 = int(h)\n",
        "  \n",
        "  if x0 < 0:\n",
        "      x0 = int(0)\n",
        "      x1 = int(win_size * 2)\n",
        "  \n",
        "  if x1 > w:\n",
        "      x0 = int(w - win_size * 2)\n",
        "      x1 = int(w)'''\n",
        "\n",
        "  img_sample = img[y0:y1, x0:x1]\n",
        "\n",
        "  # convert to CNN format\n",
        "  img_cnn = cv2.resize(img_sample, (cnn_size,cnn_size))\n",
        "  img_cnn = np.ndarray.astype(img_cnn, np.float32)\n",
        "  img_cnn = np.reshape(img_cnn, (cnn_size, cnn_size, col))\n",
        "\n",
        "  return img_cnn, [x0,x1,y0,y1]"
      ],
      "execution_count": null,
      "outputs": []
    },
    {
      "cell_type": "code",
      "metadata": {
        "id": "_EH9tXJr7sf-"
      },
      "source": [
        "def store_single_disk(image, image_id, label):\n",
        "    \"\"\" Stores a single image as a .png file on disk.\n",
        "        Parameters:\n",
        "        ---------------\n",
        "        image       image array, (32, 32, 3) to be stored\n",
        "        image_id    integer unique ID for image\n",
        "        label       image label\n",
        "    \"\"\"\n",
        "    Image.fromarray(image).save(disk_dir / f\"{image_id}.png\")\n"
      ],
      "execution_count": 81,
      "outputs": []
    },
    {
      "cell_type": "code",
      "metadata": {
        "id": "SZX72jgR_vBL"
      },
      "source": [
        "def clearNotifications(filepath):  \n",
        "  files = glob.glob(filepath + '/*')\n",
        "  for f in files:\n",
        "      os.remove(f)"
      ],
      "execution_count": 108,
      "outputs": []
    },
    {
      "cell_type": "code",
      "metadata": {
        "id": "gi2S2x-8ALQB"
      },
      "source": [
        "clearNotifications(\"/content/drive/My Drive/Notifications/bin_4\")"
      ],
      "execution_count": 145,
      "outputs": []
    },
    {
      "cell_type": "code",
      "metadata": {
        "id": "2Cat9aVMO-CA"
      },
      "source": [
        "model_path = \"/content/drive/My Drive/model_best.h5\"\n",
        "model = keras.models.load_model(model_path)"
      ],
      "execution_count": 113,
      "outputs": []
    },
    {
      "cell_type": "code",
      "metadata": {
        "id": "gYPHTuzJPZor"
      },
      "source": [
        "predictions = pd.DataFrame(columns=[\"image\",\"label\"])\n",
        "label_list = ['chip', 'fines', 'lump', 'mixed', 'pellets']"
      ],
      "execution_count": null,
      "outputs": []
    },
    {
      "cell_type": "code",
      "metadata": {
        "id": "pZhI-QLndKPH",
        "outputId": "17a74dcb-8912-4578-e98e-570dedb0afec",
        "colab": {
          "base_uri": "https://localhost:8080/",
          "height": 50
        }
      },
      "source": [
        "vid_path = \"/content/drive/Shared drives/DSI Shared Folder/Module 2/Twist Data/bin_4.mp4\"\n",
        "\n",
        "disk_dir = Path(\"/content/drive/My Drive/Notifications/bin_4\")\n",
        "disk_dir.mkdir(parents=True, exist_ok=True)\n",
        "\n",
        "cap = cv2.VideoCapture(vid_path)\n",
        "\n",
        "N_frames = int(cap.get(cv2.CAP_PROP_FRAME_COUNT))\n",
        "\n",
        "contamFlag = 0\n",
        "notifCount = 0\n",
        "calmCount = 0\n",
        "notifications = []\n",
        "\n",
        "results_g = pd.DataFrame(columns = label_list)\n",
        "\n",
        "sample_window_size = 100\n",
        "cnn_img_size = 64\n",
        "\n",
        "tic = time.process_time()\n",
        "for frame_num in range(int(N_frames)):\n",
        "  has_img, img = cap.read() # Blue, Green, Red Numpy Array uint8\n",
        "\n",
        "  if has_img:\n",
        "    # Images in your trainging set were monochrome\n",
        "    #img_mono = cv2.cvtColor(img, cv2.COLOR_BGR2GRAY)\n",
        "\n",
        "    # Grab a sample from the image. X=0, Y=0 is the top left corner. X and Y indicates the center of the sample.\n",
        "    x = 300\n",
        "    y = 300\n",
        "    sample, rect = sample_image(img, int(x), int(y), sample_window_size, cnn_img_size)\n",
        "\n",
        "    # TODO: CLASSIFER CODE HERE\n",
        "    \n",
        "    sample = np.expand_dims(sample, axis=0)\n",
        "    sample = preprocess_input(sample)\n",
        "    outputs = model.predict(sample)\n",
        "    labels = outputs.argmax(axis=-1)\n",
        "\n",
        "    labels = [label_list[i] for i in labels]\n",
        "\n",
        "\n",
        "    # TODO: DECIDE IF NOFITICATION FRAME SHOUD BE SAVED\n",
        "    if (outputs[0,1] >= 0.9 or outputs[0,3] >= 0.9) and calmCount == 0:\n",
        "      contamFlag += 1\n",
        "      if contamFlag == 7:\n",
        "        notifCount += 1\n",
        "        notifications.append(frame_num)\n",
        "        store_single_disk(img, frame_num, notifCount)\n",
        "    elif contamFlag > 0:\n",
        "      contamFlag = 0\n",
        "\n",
        "\n",
        "    # COLAB\n",
        "    # - - - - - - - - - - - - \n",
        "    \n",
        "    clear_output(wait=True)\n",
        "    #cv2_imshow(img[rect[2]:rect[3], rect[0]:rect[1]]) \n",
        "    #cv2.waitKey(1) & 0xff\n",
        "    print(labels)\n",
        "    # - - - - - - - - - - - - \n",
        "\n",
        "    # TODO: BUILD ARRAY FOR MATERIAL COMPOSITION GRAPH\n",
        "    results_g = results_g.append(pd.DataFrame(outputs, columns=label_list))\n",
        "    \n",
        "\n",
        "dt = time.process_time() - tic\n",
        "print(dt, dt/(N_frames)) # Samples per frame should be below 150 ms\n",
        "\n",
        "\n"
      ],
      "execution_count": 146,
      "outputs": [
        {
          "output_type": "stream",
          "text": [
            "['pellets']\n",
            "147.2778346289997 0.09998495222606904\n"
          ],
          "name": "stdout"
        }
      ]
    },
    {
      "cell_type": "code",
      "metadata": {
        "id": "HOihSWGzuQhq",
        "outputId": "fcf82c34-0038-439f-c904-42256e3aa1f1",
        "colab": {
          "base_uri": "https://localhost:8080/",
          "height": 50
        }
      },
      "source": [
        "print(notifications)\n",
        "print(notifCount)"
      ],
      "execution_count": 147,
      "outputs": [
        {
          "output_type": "stream",
          "text": [
            "[245, 266, 316, 360]\n",
            "4\n"
          ],
          "name": "stdout"
        }
      ]
    },
    {
      "cell_type": "code",
      "metadata": {
        "id": "WPOMBwdpIOkT",
        "outputId": "09e9d987-435b-451b-d91b-748536d0427c",
        "colab": {
          "base_uri": "https://localhost:8080/",
          "height": 402
        }
      },
      "source": [
        "\n",
        "results_g"
      ],
      "execution_count": 143,
      "outputs": [
        {
          "output_type": "execute_result",
          "data": {
            "text/html": [
              "<div>\n",
              "<style scoped>\n",
              "    .dataframe tbody tr th:only-of-type {\n",
              "        vertical-align: middle;\n",
              "    }\n",
              "\n",
              "    .dataframe tbody tr th {\n",
              "        vertical-align: top;\n",
              "    }\n",
              "\n",
              "    .dataframe thead th {\n",
              "        text-align: right;\n",
              "    }\n",
              "</style>\n",
              "<table border=\"1\" class=\"dataframe\">\n",
              "  <thead>\n",
              "    <tr style=\"text-align: right;\">\n",
              "      <th></th>\n",
              "      <th>chip</th>\n",
              "      <th>fines</th>\n",
              "      <th>lump</th>\n",
              "      <th>mixed</th>\n",
              "      <th>pellets</th>\n",
              "    </tr>\n",
              "  </thead>\n",
              "  <tbody>\n",
              "    <tr>\n",
              "      <th>0</th>\n",
              "      <td>2.395598e-10</td>\n",
              "      <td>5.294792e-18</td>\n",
              "      <td>2.351721e-24</td>\n",
              "      <td>5.500431e-11</td>\n",
              "      <td>1.0</td>\n",
              "    </tr>\n",
              "    <tr>\n",
              "      <th>0</th>\n",
              "      <td>6.275139e-11</td>\n",
              "      <td>1.102818e-18</td>\n",
              "      <td>4.698341e-25</td>\n",
              "      <td>2.712890e-11</td>\n",
              "      <td>1.0</td>\n",
              "    </tr>\n",
              "    <tr>\n",
              "      <th>0</th>\n",
              "      <td>7.204988e-11</td>\n",
              "      <td>1.031325e-18</td>\n",
              "      <td>1.180208e-24</td>\n",
              "      <td>7.242672e-11</td>\n",
              "      <td>1.0</td>\n",
              "    </tr>\n",
              "    <tr>\n",
              "      <th>0</th>\n",
              "      <td>2.101549e-10</td>\n",
              "      <td>2.057217e-18</td>\n",
              "      <td>9.410515e-25</td>\n",
              "      <td>4.631341e-11</td>\n",
              "      <td>1.0</td>\n",
              "    </tr>\n",
              "    <tr>\n",
              "      <th>0</th>\n",
              "      <td>5.003617e-11</td>\n",
              "      <td>4.277673e-19</td>\n",
              "      <td>3.001031e-25</td>\n",
              "      <td>1.199293e-11</td>\n",
              "      <td>1.0</td>\n",
              "    </tr>\n",
              "    <tr>\n",
              "      <th>...</th>\n",
              "      <td>...</td>\n",
              "      <td>...</td>\n",
              "      <td>...</td>\n",
              "      <td>...</td>\n",
              "      <td>...</td>\n",
              "    </tr>\n",
              "    <tr>\n",
              "      <th>0</th>\n",
              "      <td>5.500077e-14</td>\n",
              "      <td>3.031060e-17</td>\n",
              "      <td>4.544766e-24</td>\n",
              "      <td>1.970478e-11</td>\n",
              "      <td>1.0</td>\n",
              "    </tr>\n",
              "    <tr>\n",
              "      <th>0</th>\n",
              "      <td>6.585706e-14</td>\n",
              "      <td>3.935312e-17</td>\n",
              "      <td>2.245116e-24</td>\n",
              "      <td>1.196036e-11</td>\n",
              "      <td>1.0</td>\n",
              "    </tr>\n",
              "    <tr>\n",
              "      <th>0</th>\n",
              "      <td>6.804460e-14</td>\n",
              "      <td>4.156439e-17</td>\n",
              "      <td>4.114964e-24</td>\n",
              "      <td>1.423998e-11</td>\n",
              "      <td>1.0</td>\n",
              "    </tr>\n",
              "    <tr>\n",
              "      <th>0</th>\n",
              "      <td>1.283055e-13</td>\n",
              "      <td>1.159117e-16</td>\n",
              "      <td>6.508463e-24</td>\n",
              "      <td>1.600698e-11</td>\n",
              "      <td>1.0</td>\n",
              "    </tr>\n",
              "    <tr>\n",
              "      <th>0</th>\n",
              "      <td>5.408004e-14</td>\n",
              "      <td>1.205268e-16</td>\n",
              "      <td>2.434058e-24</td>\n",
              "      <td>1.857771e-11</td>\n",
              "      <td>1.0</td>\n",
              "    </tr>\n",
              "  </tbody>\n",
              "</table>\n",
              "<p>1473 rows × 5 columns</p>\n",
              "</div>"
            ],
            "text/plain": [
              "            chip         fines          lump         mixed  pellets\n",
              "0   2.395598e-10  5.294792e-18  2.351721e-24  5.500431e-11      1.0\n",
              "0   6.275139e-11  1.102818e-18  4.698341e-25  2.712890e-11      1.0\n",
              "0   7.204988e-11  1.031325e-18  1.180208e-24  7.242672e-11      1.0\n",
              "0   2.101549e-10  2.057217e-18  9.410515e-25  4.631341e-11      1.0\n",
              "0   5.003617e-11  4.277673e-19  3.001031e-25  1.199293e-11      1.0\n",
              "..           ...           ...           ...           ...      ...\n",
              "0   5.500077e-14  3.031060e-17  4.544766e-24  1.970478e-11      1.0\n",
              "0   6.585706e-14  3.935312e-17  2.245116e-24  1.196036e-11      1.0\n",
              "0   6.804460e-14  4.156439e-17  4.114964e-24  1.423998e-11      1.0\n",
              "0   1.283055e-13  1.159117e-16  6.508463e-24  1.600698e-11      1.0\n",
              "0   5.408004e-14  1.205268e-16  2.434058e-24  1.857771e-11      1.0\n",
              "\n",
              "[1473 rows x 5 columns]"
            ]
          },
          "metadata": {
            "tags": []
          },
          "execution_count": 143
        }
      ]
    },
    {
      "cell_type": "code",
      "metadata": {
        "id": "8fjd7WIb-5Vx",
        "outputId": "89ed5545-a302-47ad-ab47-b4a244129146",
        "colab": {
          "base_uri": "https://localhost:8080/",
          "height": 557
        }
      },
      "source": [
        "\n",
        "plt.figure(figsize=(18,9))\n",
        "\n",
        "plt.stackplot(list(range(0, N_frames)), [results_g.chip, results_g.fines , results_g.lump, results_g.mixed, results_g.pellets], \n",
        "              labels=label_list,\n",
        "              )\n",
        "plt.title(\"Bin 4 Mixture Composition\", {'fontsize': 18})\n",
        "plt.legend(loc='upper left')\n",
        "for frame in notifications:\n",
        "  plt.axvline(x=frame, color = \"black\", label = 'Notification', ymax = 0.95, markeredgewidth = 3)\n",
        "\n",
        "plt.show()"
      ],
      "execution_count": 148,
      "outputs": [
        {
          "output_type": "display_data",
          "data": {
            "image/png": "[encoded data removed]",
            "text/plain": [
              "<Figure size 1296x648 with 1 Axes>"
            ]
          },
          "metadata": {
            "tags": [],
            "needs_background": "light"
          }
        }
      ]
    },
    {
      "cell_type": "code",
      "metadata": {
        "id": "oUP2HOCTFPD0"
      },
      "source": [
        "plt.plot(y)"
      ],
      "execution_count": null,
      "outputs": []
    },
    {
      "cell_type": "code",
      "metadata": {
        "id": "hFd0cPbbA3rV"
      },
      "source": [
        "print(np.reshape(graphArraychip, (len(graphArraychip), 1)))"
      ],
      "execution_count": null,
      "outputs": []
    }
  ]
}