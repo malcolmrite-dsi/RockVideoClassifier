{
  "nbformat": 4,
  "nbformat_minor": 0,
  "metadata": {
    "colab": {
      "name": "RockClassifierCode",
      "provenance": [],
      "collapsed_sections": [],
      "toc_visible": true,
      "include_colab_link": true
    },
    "kernelspec": {
      "display_name": "Python 3",
      "name": "python3"
    }
  },
  "cells": [
    {
      "cell_type": "markdown",
      "metadata": {
        "id": "view-in-github",
        "colab_type": "text"
      },
      "source": [
        "<a href=\"https://colab.research.google.com/github/malcolmrite-dsi/RockVideoClassifier/blob/main/RockClassifierCode.ipynb\" target=\"_parent\"><img src=\"https://colab.research.google.com/assets/colab-badge.svg\" alt=\"Open In Colab\"/></a>"
      ]
    },
    {
      "cell_type": "markdown",
      "metadata": {
        "id": "qKE9s_WWcyOA"
      },
      "source": [
        "This script will show you how to read frames from a video, resize it and sample sub-images"
      ]
    },
    {
      "cell_type": "code",
      "metadata": {
        "id": "oRajjXjQ0x4h",
        "outputId": "a25603e0-41b4-4c07-cbff-10dc0ebd5aec",
        "colab": {
          "base_uri": "https://localhost:8080/",
          "height": 34
        }
      },
      "source": [
        "from google.colab import drive\n",
        "drive.mount('/content/drive')"
      ],
      "execution_count": 1,
      "outputs": [
        {
          "output_type": "stream",
          "text": [
            "Mounted at /content/drive\n"
          ],
          "name": "stdout"
        }
      ]
    },
    {
      "cell_type": "code",
      "metadata": {
        "id": "8MPC_oI3cprv"
      },
      "source": [
        "from google.colab.patches import cv2_imshow\n",
        "from IPython.display import clear_output, Image\n",
        "import cv2\n",
        "import numpy as np\n",
        "import matplotlib.pyplot as plt\n",
        "import time\n",
        "\n",
        "from pathlib import Path\n",
        "from PIL import Image\n",
        "\n",
        "import os\n",
        "import glob\n",
        "\n",
        "import pandas as pd\n",
        "import seaborn as sns\n",
        "\n",
        "from keras.applications.resnet50 import preprocess_input\n",
        "from tensorflow import keras\n",
        "from tensorflow.keras.models import Model"
      ],
      "execution_count": 2,
      "outputs": []
    },
    {
      "cell_type": "code",
      "metadata": {
        "id": "d-IQdnfNmeFI"
      },
      "source": [
        "def sample_image(img, x, y, win_size, cnn_size):\n",
        "  h, w, col = img.shape\n",
        "\n",
        "  delta = int(win_size/2)\n",
        "\n",
        "  x0 = x - delta \n",
        "  x1 = x + delta\n",
        "  y0 = y - delta\n",
        "  y1 = y + delta\n",
        "\n",
        "  if y0 < 0:\n",
        "      y0 = int(0)\n",
        "      y1 = int(win_size * 2)\n",
        "  \n",
        "  if y1 > h:\n",
        "      y0 = int(h - win_size * 2)\n",
        "      y1 = int(h)\n",
        "  \n",
        "  if x0 < 0:\n",
        "      x0 = int(0)\n",
        "      x1 = int(win_size * 2)\n",
        "  \n",
        "  if x1 > w:\n",
        "      x0 = int(w - win_size * 2)\n",
        "      x1 = int(w)\n",
        "\n",
        "  img_sample = img[y0:y1, x0:x1]\n",
        "\n",
        "  # convert to CNN format\n",
        "  img_cnn = cv2.resize(img_sample, (cnn_size,cnn_size))\n",
        "  img_cnn = np.ndarray.astype(img_cnn, np.float32)\n",
        "  img_cnn = np.reshape(img_cnn, (cnn_size, cnn_size, col))\n",
        "\n",
        "  return img_cnn, [x0,x1,y0,y1]"
      ],
      "execution_count": 3,
      "outputs": []
    },
    {
      "cell_type": "code",
      "metadata": {
        "id": "_EH9tXJr7sf-"
      },
      "source": [
        "def store_single_disk(image, image_id, label):\n",
        "    \"\"\" Stores a single image as a .png file on disk.\n",
        "        Parameters:\n",
        "        ---------------\n",
        "        image       to be stored\n",
        "        image_id    integer unique ID for image\n",
        "        label       image label\n",
        "    \"\"\"\n",
        "    Image.fromarray(image).save(disk_dir / f\"{image_id}.png\")\n"
      ],
      "execution_count": 4,
      "outputs": []
    },
    {
      "cell_type": "code",
      "metadata": {
        "id": "SZX72jgR_vBL"
      },
      "source": [
        "def clearNotifications(filepath):  \n",
        "  files = glob.glob(filepath + '/*')\n",
        "  for f in files:\n",
        "      os.remove(f)"
      ],
      "execution_count": 5,
      "outputs": []
    },
    {
      "cell_type": "code",
      "metadata": {
        "id": "NppvkjWtlox-"
      },
      "source": [
        ""
      ],
      "execution_count": null,
      "outputs": []
    },
    {
      "cell_type": "code",
      "metadata": {
        "id": "gi2S2x-8ALQB"
      },
      "source": [
        "clearNotifications(\"/content/drive/My Drive/Notifications/bin_7\")"
      ],
      "execution_count": 20,
      "outputs": []
    },
    {
      "cell_type": "code",
      "metadata": {
        "id": "2Cat9aVMO-CA"
      },
      "source": [
        "model_path = \"/content/drive/My Drive/model_best_64.h5\"\n",
        "model = keras.models.load_model(model_path)"
      ],
      "execution_count": 7,
      "outputs": []
    },
    {
      "cell_type": "code",
      "metadata": {
        "id": "gYPHTuzJPZor"
      },
      "source": [
        "label_list = ['chip', 'fines', 'lump', 'mixed', 'pellets']"
      ],
      "execution_count": 10,
      "outputs": []
    },
    {
      "cell_type": "code",
      "metadata": {
        "id": "pZhI-QLndKPH",
        "outputId": "6fe95310-e09c-4843-bdcc-0307f607d026",
        "colab": {
          "base_uri": "https://localhost:8080/",
          "height": 50
        }
      },
      "source": [
        "vid_path = \"/content/drive/Shared drives/DSI Shared Folder/Module 2/Twist Data/bin_7.mp4\"\n",
        "\n",
        "disk_dir = Path(\"/content/drive/My Drive/Notifications/bin_7\")\n",
        "disk_dir.mkdir(parents=True, exist_ok=True)\n",
        "\n",
        "cap = cv2.VideoCapture(vid_path)\n",
        "\n",
        "N_frames = int(cap.get(cv2.CAP_PROP_FRAME_COUNT))\n",
        "# [345,355], [125,125]\n",
        "sub_samples = [[225,225]]\n",
        "\n",
        "contamFlag = 0\n",
        "notifCount = 0\n",
        "calmCount = 0\n",
        "notifications = []\n",
        "dangerCount = 0\n",
        "\n",
        "results_g = pd.DataFrame(columns = label_list)\n",
        "frames_g = pd.DataFrame(columns = label_list)\n",
        "\n",
        "sample_window_size = 150\n",
        "cnn_img_size = 64\n",
        "\n",
        "tic = time.process_time()\n",
        "for frame_num in range(int(N_frames)):\n",
        "  has_img, img = cap.read() # Blue, Green, Red Numpy Array uint8\n",
        "  dangerCount = 0\n",
        "  if has_img:\n",
        "    # Images in your trainging set were monochrome\n",
        "    #img_mono = cv2.cvtColor(img, cv2.COLOR_BGR2GRAY)\n",
        "    for i, sub in enumerate(sub_samples):\n",
        "\n",
        "      # Grab a sample from the image. X=0, Y=0 is the top left corner. X and Y indicates the center of the sample.\n",
        "      x = sub[0]\n",
        "      y = sub[1]\n",
        "      sample, rect = sample_image(img, int(x), int(y), sample_window_size, cnn_img_size)\n",
        "\n",
        "      # TODO: CLASSIFER CODE HERE\n",
        "      \n",
        "      sample = np.expand_dims(sample, axis=0)\n",
        "      sample = preprocess_input(sample)\n",
        "      outputs = model.predict(sample)\n",
        "      labels = outputs.argmax(axis=-1)\n",
        "\n",
        "      labels = [label_list[i] for i in labels]\n",
        "\n",
        "\n",
        "      # TODO: DECIDE IF NOFITICATION FRAME SHOUD BE SAVED\n",
        "      if (outputs[0,1] >= 0.9 or outputs[0,3] >= 0.9):\n",
        "        contamFlag += 1\n",
        "        if contamFlag == 7:\n",
        "          notifCount += 1\n",
        "          print(\"ALERT: CONTAMINATED\")\n",
        "          notifications.append(frame_num)\n",
        "          store_single_disk(img, frame_num, notifCount)\n",
        "      elif contamFlag > 24:\n",
        "        contamFlag = 0\n",
        "\n",
        "      frames_g = frames_g.append(pd.DataFrame(outputs, columns=label_list))\n",
        "      # COLAB\n",
        "      # - - - - - - - - - - - - \n",
        "      \n",
        "      clear_output(wait=True)\n",
        "      #cv2_imshow(img[rect[2]:rect[3], rect[0]:rect[1]]) \n",
        "      #cv2.waitKey(1) & 0xff\n",
        "      print(labels)\n",
        "      # - - - - - - - - - - - - \n",
        "\n",
        "      # TODO: BUILD ARRAY FOR MATERIAL COMPOSITION GRAPH\n",
        "    \n",
        "    results_g = results_g.append(pd.DataFrame(outputs, columns=label_list))\n",
        "    \n",
        "\n",
        "\n",
        "dt = time.process_time() - tic\n",
        "print(dt, dt/(N_frames)) # Samples per frame should be below 150 ms\n",
        "\n",
        "\n"
      ],
      "execution_count": 21,
      "outputs": [
        {
          "output_type": "stream",
          "text": [
            "['pellets']\n",
            "198.11342050999997 0.1330513233781061\n"
          ],
          "name": "stdout"
        }
      ]
    },
    {
      "cell_type": "code",
      "metadata": {
        "id": "HOihSWGzuQhq",
        "outputId": "4de1b151-0b76-496d-c5f5-c553fa72e001",
        "colab": {
          "base_uri": "https://localhost:8080/",
          "height": 67
        }
      },
      "source": [
        "print(dt, dt/(N_frames))\n",
        "print(notifications)\n",
        "print(notifCount)"
      ],
      "execution_count": 22,
      "outputs": [
        {
          "output_type": "stream",
          "text": [
            "198.11342050999997 0.1330513233781061\n",
            "[1463]\n",
            "1\n"
          ],
          "name": "stdout"
        }
      ]
    },
    {
      "cell_type": "code",
      "metadata": {
        "id": "WPOMBwdpIOkT",
        "outputId": "933de243-6e8d-4566-e2a0-61216552e21c",
        "colab": {
          "base_uri": "https://localhost:8080/",
          "height": 34
        }
      },
      "source": [
        "\n",
        "frames_g.shape"
      ],
      "execution_count": null,
      "outputs": [
        {
          "output_type": "execute_result",
          "data": {
            "text/plain": [
              "(5,)"
            ]
          },
          "metadata": {
            "tags": []
          },
          "execution_count": 80
        }
      ]
    },
    {
      "cell_type": "code",
      "metadata": {
        "id": "8fjd7WIb-5Vx",
        "outputId": "970ef9c5-85d0-472e-d659-1686339d855f",
        "colab": {
          "base_uri": "https://localhost:8080/",
          "height": 557
        }
      },
      "source": [
        "\n",
        "plt.figure(figsize=(18,9))\n",
        "\n",
        "plt.stackplot(list(range(0, int(N_frames))), [results_g.chip, results_g.fines , results_g.lump, results_g.mixed, results_g.pellets], \n",
        "              labels=label_list,\n",
        "              )\n",
        "plt.title(\"Bin 7 Mixture Composition\", {'fontsize': 18})\n",
        "plt.legend(loc='upper left')\n",
        "for frame in notifications:\n",
        "  plt.axvline(x=frame, color = \"black\", label = 'Notification', ymax = 0.95, markeredgewidth = 5)\n",
        "\n",
        "plt.show()"
      ],
      "execution_count": 23,
      "outputs": [
        {
          "output_type": "display_data",
          "data": {
            "image/png": "[encoded data removed]",
            "text/plain": [
              "<Figure size 1296x648 with 1 Axes>"
            ]
          },
          "metadata": {
            "tags": [],
            "needs_background": "light"
          }
        }
      ]
    }
  ]
}